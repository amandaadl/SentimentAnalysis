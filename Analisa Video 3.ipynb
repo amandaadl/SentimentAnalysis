{
 "cells": [
  {
   "cell_type": "markdown",
   "id": "f46ce2c8-6605-4320-a845-aa74a5bebdaf",
   "metadata": {},
   "source": [
    "## Text Processing Video 3"
   ]
  },
  {
   "cell_type": "code",
   "execution_count": 1,
   "id": "5252ddc4-2bf0-47fe-9520-284ab3abcd37",
   "metadata": {},
   "outputs": [
    {
     "name": "stdout",
     "output_type": "stream",
     "text": [
      "Requirement already satisfied: SpeechRecognition in c:\\users\\acer\\anaconda3\\lib\\site-packages (3.8.1)\n"
     ]
    }
   ],
   "source": [
    "!pip install SpeechRecognition"
   ]
  },
  {
   "cell_type": "code",
   "execution_count": 31,
   "id": "2a87c34f-74a8-418c-af5a-a6a47c7dcbca",
   "metadata": {},
   "outputs": [
    {
     "name": "stderr",
     "output_type": "stream",
     "text": [
      "chunk:   1%|          | 26/4141 [00:00<00:15, 259.07it/s, now=None]"
     ]
    },
    {
     "name": "stdout",
     "output_type": "stream",
     "text": [
      "MoviePy - Writing audio in Video 3.wav\n"
     ]
    },
    {
     "name": "stderr",
     "output_type": "stream",
     "text": [
      "                                                                      "
     ]
    },
    {
     "name": "stdout",
     "output_type": "stream",
     "text": [
      "MoviePy - Done.\n"
     ]
    },
    {
     "name": "stderr",
     "output_type": "stream",
     "text": [
      "\r"
     ]
    }
   ],
   "source": [
    "import moviepy.editor as mpe\n",
    "#convert to audio\n",
    "video = mpe.VideoFileClip(r\"Video 3.mp4\")\n",
    "video.audio.write_audiofile(r\"Video 3.wav\")"
   ]
  },
  {
   "cell_type": "code",
   "execution_count": 13,
   "id": "f39d20c4-b62f-45ed-8387-1f8a316376fb",
   "metadata": {},
   "outputs": [],
   "source": [
    "import speech_recognition as sr"
   ]
  },
  {
   "cell_type": "code",
   "execution_count": 32,
   "id": "b292d62a-7667-41cf-8b44-b0976a1665e1",
   "metadata": {},
   "outputs": [
    {
     "name": "stdout",
     "output_type": "stream",
     "text": [
      "Transkripsi: lupakan kalah menang tapi coba 1 menit saja berpikir sebagai manusia kalah menang itu biarkan terjadi Tapi jujur itu kalau ia menang Iya tapi lillahita'ala ini nggak bisa nggak kamu munafik munafik bisa nggak kamu Untuk apa kamu menang kalau kamu curang kamu bangga sekali sih kamu bangga sekali sih nasi bungkus duit bohong curang munafik COBOL kamu kok seneng gitu kamu kok nggak berpikir ini Allah Ridho nggak ini Allah Ridho nggak ya Kamu bisa nggak sih berpikir kemenangan itu coba ayo makan kemenangan itu tapi kamu berpikir enggak menang itu karena curang atau karena Bil kamu nggak takut diazab Allah ya kamu nggak takut ya bukan nanya kamu anak cucumu yang hancur menanggung bebannya kok menang menang menang Kamu sampai lupa curang Astaghfirullahaladzim Oke intinya begini Gus Apa yang kamu ingin sampaikan detik ini ya lumayan munjiat channel ini kan ditonton 32 negara lumayanlah 32 negara yang nonton channel ini mudah-mudahan menambah perbendaharaan informasi jadi gini saudaraku nggak usah percaya TV Orangnya sudah masif dan sistematis sistematis udah matikan tv-nya atau kita tonton tapi nggak usah diambil pusing nanti memutuskan saksikan ini versi saya ini media sosial ini versi orang jujur ini versi saya bersihkan tonton dan takutlah kepada Allah Apa artinya menang kalau curang Saya doakan mudah-mudahan Pak Prabowo dan sandiaga Uno dilindungi Allah dan di menangkan oleh Allah dengan cara jujur adil tanpa kecurangan sudah nggak makan gajinya sudah nggak mau diambil gajinya nggak nggak mani politik dan menguasai media tapi Cebong goblok nya naudzubilah minjalik membangga-banggakan kecurangan membangga-banggakan Pendusta tonton videonya lagi yang lain langsung dari lapangan Kalau kamu tetap bangga dengan perjuangan\n"
     ]
    }
   ],
   "source": [
    "r = sr.Recognizer()\n",
    "with sr.AudioFile(\"Video 3.wav\") as source:              # use \"gombal.wav\" as the audio source\n",
    "    audio = r.record(source)                             # extract audio data from the file\n",
    "    \n",
    "try:\n",
    "    hasil = \"Transkripsi: \" + r.recognize_google(audio, language=\"id-ID\")\n",
    "    print(hasil)                                         # recognize speech using Google Speech Recognition\n",
    "except LookupError:                                      # speech is unintelligible\n",
    "    print(\"Saya tidak mengerti\")"
   ]
  },
  {
   "cell_type": "code",
   "execution_count": 33,
   "id": "8215f00e-74a6-4f58-8760-284bc98c1142",
   "metadata": {},
   "outputs": [],
   "source": [
    "# import the necessary libraries\n",
    "import nltk\n",
    "import string\n",
    "import re"
   ]
  },
  {
   "cell_type": "markdown",
   "id": "70b5f21e-689f-4030-b370-6e9c8ffa5514",
   "metadata": {},
   "source": [
    "### Lower Case"
   ]
  },
  {
   "cell_type": "code",
   "execution_count": 34,
   "id": "8f301b9d-586d-4537-8716-1cfbca15d88e",
   "metadata": {},
   "outputs": [
    {
     "name": "stdout",
     "output_type": "stream",
     "text": [
      "Transkripsi: lupakan kalah menang tapi coba 1 menit saja berpikir sebagai manusia kalah menang itu biarkan terjadi Tapi jujur itu kalau ia menang Iya tapi lillahita'ala ini nggak bisa nggak kamu munafik munafik bisa nggak kamu Untuk apa kamu menang kalau kamu curang kamu bangga sekali sih kamu bangga sekali sih nasi bungkus duit bohong curang munafik COBOL kamu kok seneng gitu kamu kok nggak berpikir ini Allah Ridho nggak ini Allah Ridho nggak ya Kamu bisa nggak sih berpikir kemenangan itu coba ayo makan kemenangan itu tapi kamu berpikir enggak menang itu karena curang atau karena Bil kamu nggak takut diazab Allah ya kamu nggak takut ya bukan nanya kamu anak cucumu yang hancur menanggung bebannya kok menang menang menang Kamu sampai lupa curang Astaghfirullahaladzim Oke intinya begini Gus Apa yang kamu ingin sampaikan detik ini ya lumayan munjiat channel ini kan ditonton 32 negara lumayanlah 32 negara yang nonton channel ini mudah-mudahan menambah perbendaharaan informasi jadi gini saudaraku nggak usah percaya TV Orangnya sudah masif dan sistematis sistematis udah matikan tv-nya atau kita tonton tapi nggak usah diambil pusing nanti memutuskan saksikan ini versi saya ini media sosial ini versi orang jujur ini versi saya bersihkan tonton dan takutlah kepada Allah Apa artinya menang kalau curang Saya doakan mudah-mudahan Pak Prabowo dan sandiaga Uno dilindungi Allah dan di menangkan oleh Allah dengan cara jujur adil tanpa kecurangan sudah nggak makan gajinya sudah nggak mau diambil gajinya nggak nggak mani politik dan menguasai media tapi Cebong goblok nya naudzubilah minjalik membangga-banggakan kecurangan membangga-banggakan Pendusta tonton videonya lagi yang lain langsung dari lapangan Kalau kamu tetap bangga dengan perjuangan\n"
     ]
    }
   ],
   "source": [
    "def text_lowercase(text):\n",
    "    return text.lower()\n",
    "\n",
    "hasil1 = text_lowercase(hasil)\n",
    "print(hasil)"
   ]
  },
  {
   "cell_type": "markdown",
   "id": "0f32725e-6f1e-4c1e-9380-05f4ca354a41",
   "metadata": {},
   "source": [
    "### Remove Number"
   ]
  },
  {
   "cell_type": "code",
   "execution_count": 35,
   "id": "38e16ef6-d9ea-4b09-bd31-475fb7feb21f",
   "metadata": {},
   "outputs": [
    {
     "data": {
      "text/plain": [
       "\"transkripsi: lupakan kalah menang tapi coba  menit saja berpikir sebagai manusia kalah menang itu biarkan terjadi tapi jujur itu kalau ia menang iya tapi lillahita'ala ini nggak bisa nggak kamu munafik munafik bisa nggak kamu untuk apa kamu menang kalau kamu curang kamu bangga sekali sih kamu bangga sekali sih nasi bungkus duit bohong curang munafik cobol kamu kok seneng gitu kamu kok nggak berpikir ini allah ridho nggak ini allah ridho nggak ya kamu bisa nggak sih berpikir kemenangan itu coba ayo makan kemenangan itu tapi kamu berpikir enggak menang itu karena curang atau karena bil kamu nggak takut diazab allah ya kamu nggak takut ya bukan nanya kamu anak cucumu yang hancur menanggung bebannya kok menang menang menang kamu sampai lupa curang astaghfirullahaladzim oke intinya begini gus apa yang kamu ingin sampaikan detik ini ya lumayan munjiat channel ini kan ditonton  negara lumayanlah  negara yang nonton channel ini mudah-mudahan menambah perbendaharaan informasi jadi gini saudaraku nggak usah percaya tv orangnya sudah masif dan sistematis sistematis udah matikan tv-nya atau kita tonton tapi nggak usah diambil pusing nanti memutuskan saksikan ini versi saya ini media sosial ini versi orang jujur ini versi saya bersihkan tonton dan takutlah kepada allah apa artinya menang kalau curang saya doakan mudah-mudahan pak prabowo dan sandiaga uno dilindungi allah dan di menangkan oleh allah dengan cara jujur adil tanpa kecurangan sudah nggak makan gajinya sudah nggak mau diambil gajinya nggak nggak mani politik dan menguasai media tapi cebong goblok nya naudzubilah minjalik membangga-banggakan kecurangan membangga-banggakan pendusta tonton videonya lagi yang lain langsung dari lapangan kalau kamu tetap bangga dengan perjuangan\""
      ]
     },
     "execution_count": 35,
     "metadata": {},
     "output_type": "execute_result"
    }
   ],
   "source": [
    "# Remove numbers\n",
    "def remove_numbers(text):\n",
    "    result = re.sub(r'\\d+', '', text)\n",
    "    return result\n",
    "\n",
    "hasil2 = remove_numbers(hasil1)\n",
    "hasil2"
   ]
  },
  {
   "cell_type": "markdown",
   "id": "1e808b64-adfb-4390-a20c-1d2dd18f6d25",
   "metadata": {},
   "source": [
    "### Remove Punctuation"
   ]
  },
  {
   "cell_type": "code",
   "execution_count": 36,
   "id": "2fb500e6-6c63-4f73-a439-552f7314095c",
   "metadata": {},
   "outputs": [
    {
     "data": {
      "text/plain": [
       "'transkripsi lupakan kalah menang tapi coba  menit saja berpikir sebagai manusia kalah menang itu biarkan terjadi tapi jujur itu kalau ia menang iya tapi lillahitaala ini nggak bisa nggak kamu munafik munafik bisa nggak kamu untuk apa kamu menang kalau kamu curang kamu bangga sekali sih kamu bangga sekali sih nasi bungkus duit bohong curang munafik cobol kamu kok seneng gitu kamu kok nggak berpikir ini allah ridho nggak ini allah ridho nggak ya kamu bisa nggak sih berpikir kemenangan itu coba ayo makan kemenangan itu tapi kamu berpikir enggak menang itu karena curang atau karena bil kamu nggak takut diazab allah ya kamu nggak takut ya bukan nanya kamu anak cucumu yang hancur menanggung bebannya kok menang menang menang kamu sampai lupa curang astaghfirullahaladzim oke intinya begini gus apa yang kamu ingin sampaikan detik ini ya lumayan munjiat channel ini kan ditonton  negara lumayanlah  negara yang nonton channel ini mudahmudahan menambah perbendaharaan informasi jadi gini saudaraku nggak usah percaya tv orangnya sudah masif dan sistematis sistematis udah matikan tvnya atau kita tonton tapi nggak usah diambil pusing nanti memutuskan saksikan ini versi saya ini media sosial ini versi orang jujur ini versi saya bersihkan tonton dan takutlah kepada allah apa artinya menang kalau curang saya doakan mudahmudahan pak prabowo dan sandiaga uno dilindungi allah dan di menangkan oleh allah dengan cara jujur adil tanpa kecurangan sudah nggak makan gajinya sudah nggak mau diambil gajinya nggak nggak mani politik dan menguasai media tapi cebong goblok nya naudzubilah minjalik membanggabanggakan kecurangan membanggabanggakan pendusta tonton videonya lagi yang lain langsung dari lapangan kalau kamu tetap bangga dengan perjuangan'"
      ]
     },
     "execution_count": 36,
     "metadata": {},
     "output_type": "execute_result"
    }
   ],
   "source": [
    "# remove punctuation\n",
    "def remove_punctuation(text):\n",
    "    translator = str.maketrans('', '', string.punctuation)\n",
    "    return text.translate(translator)\n",
    "\n",
    "hasil3 = remove_punctuation(hasil2)\n",
    "hasil3"
   ]
  },
  {
   "cell_type": "markdown",
   "id": "e59e414b-3c3a-4193-8b4b-1eaf6f4ad488",
   "metadata": {},
   "source": [
    "### Remove Whitespace"
   ]
  },
  {
   "cell_type": "code",
   "execution_count": 37,
   "id": "7954c182-b3bf-4f6a-8332-6e54b427dd65",
   "metadata": {},
   "outputs": [
    {
     "data": {
      "text/plain": [
       "'transkripsi lupakan kalah menang tapi coba menit saja berpikir sebagai manusia kalah menang itu biarkan terjadi tapi jujur itu kalau ia menang iya tapi lillahitaala ini nggak bisa nggak kamu munafik munafik bisa nggak kamu untuk apa kamu menang kalau kamu curang kamu bangga sekali sih kamu bangga sekali sih nasi bungkus duit bohong curang munafik cobol kamu kok seneng gitu kamu kok nggak berpikir ini allah ridho nggak ini allah ridho nggak ya kamu bisa nggak sih berpikir kemenangan itu coba ayo makan kemenangan itu tapi kamu berpikir enggak menang itu karena curang atau karena bil kamu nggak takut diazab allah ya kamu nggak takut ya bukan nanya kamu anak cucumu yang hancur menanggung bebannya kok menang menang menang kamu sampai lupa curang astaghfirullahaladzim oke intinya begini gus apa yang kamu ingin sampaikan detik ini ya lumayan munjiat channel ini kan ditonton negara lumayanlah negara yang nonton channel ini mudahmudahan menambah perbendaharaan informasi jadi gini saudaraku nggak usah percaya tv orangnya sudah masif dan sistematis sistematis udah matikan tvnya atau kita tonton tapi nggak usah diambil pusing nanti memutuskan saksikan ini versi saya ini media sosial ini versi orang jujur ini versi saya bersihkan tonton dan takutlah kepada allah apa artinya menang kalau curang saya doakan mudahmudahan pak prabowo dan sandiaga uno dilindungi allah dan di menangkan oleh allah dengan cara jujur adil tanpa kecurangan sudah nggak makan gajinya sudah nggak mau diambil gajinya nggak nggak mani politik dan menguasai media tapi cebong goblok nya naudzubilah minjalik membanggabanggakan kecurangan membanggabanggakan pendusta tonton videonya lagi yang lain langsung dari lapangan kalau kamu tetap bangga dengan perjuangan'"
      ]
     },
     "execution_count": 37,
     "metadata": {},
     "output_type": "execute_result"
    }
   ],
   "source": [
    "# remove whitespace from text\n",
    "def remove_whitespace(text):\n",
    "    return  \" \".join(text.split())\n",
    "\n",
    "hasil4 = remove_whitespace(hasil3)\n",
    "hasil4"
   ]
  },
  {
   "cell_type": "markdown",
   "id": "f7819446-f793-4f3b-9ec6-f0a339cc011d",
   "metadata": {},
   "source": [
    "### Remove Default Stopwords"
   ]
  },
  {
   "cell_type": "code",
   "execution_count": 38,
   "id": "7413915c-e69d-4b75-a618-ab674a957147",
   "metadata": {},
   "outputs": [
    {
     "name": "stderr",
     "output_type": "stream",
     "text": [
      "[nltk_data] Downloading package stopwords to\n",
      "[nltk_data]     C:\\Users\\acer\\AppData\\Roaming\\nltk_data...\n",
      "[nltk_data]   Package stopwords is already up-to-date!\n",
      "[nltk_data] Downloading package punkt to\n",
      "[nltk_data]     C:\\Users\\acer\\AppData\\Roaming\\nltk_data...\n",
      "[nltk_data]   Package punkt is already up-to-date!\n"
     ]
    },
    {
     "data": {
      "text/plain": [
       "True"
      ]
     },
     "execution_count": 38,
     "metadata": {},
     "output_type": "execute_result"
    }
   ],
   "source": [
    "from nltk.corpus import stopwords\n",
    "from nltk.tokenize import word_tokenize\n",
    "from nltk.corpus import stopwords\n",
    "nltk.download('stopwords')\n",
    "nltk.download('punkt')"
   ]
  },
  {
   "cell_type": "code",
   "execution_count": 39,
   "id": "f62e754e-40b1-443e-81ac-4d9875c7ceda",
   "metadata": {},
   "outputs": [
    {
     "data": {
      "text/plain": [
       "'transkripsi, lupakan, kalah, menang, coba, menit, berpikir, manusia, kalah, menang, biarkan, jujur, menang, iya, lillahitaala, nggak, nggak, munafik, munafik, nggak, menang, curang, bangga, sih, bangga, sih, nasi, bungkus, duit, bohong, curang, munafik, cobol, seneng, gitu, nggak, berpikir, allah, ridho, nggak, allah, ridho, nggak, ya, nggak, sih, berpikir, kemenangan, coba, ayo, makan, kemenangan, berpikir, menang, curang, bil, nggak, takut, diazab, allah, ya, nggak, takut, ya, nanya, anak, cucumu, hancur, menanggung, bebannya, menang, menang, menang, lupa, curang, astaghfirullahaladzim, oke, intinya, gus, detik, ya, lumayan, munjiat, channel, ditonton, negara, lumayanlah, negara, nonton, channel, mudahmudahan, menambah, perbendaharaan, informasi, gini, saudaraku, nggak, percaya, tv, orangnya, masif, sistematis, sistematis, udah, matikan, tvnya, tonton, nggak, diambil, pusing, memutuskan, saksikan, versi, media, sosial, versi, orang, jujur, versi, bersihkan, tonton, takutlah, allah, menang, curang, doakan, mudahmudahan, prabowo, sandiaga, uno, dilindungi, allah, menangkan, allah, jujur, adil, kecurangan, nggak, makan, gajinya, nggak, diambil, gajinya, nggak, nggak, mani, politik, menguasai, media, cebong, goblok, nya, naudzubilah, minjalik, membanggabanggakan, kecurangan, membanggabanggakan, pendusta, tonton, videonya, langsung, lapangan, bangga, perjuangan'"
      ]
     },
     "execution_count": 39,
     "metadata": {},
     "output_type": "execute_result"
    }
   ],
   "source": [
    "# remove stopwords function\n",
    "def remove_stopwords(text):\n",
    "    stop_words = set(stopwords.words(\"indonesian\"))\n",
    "    word_tokens = word_tokenize(text)\n",
    "    filtered_text = [word for word in word_tokens if word not in stop_words]\n",
    "    return filtered_text\n",
    "\n",
    "hasil5 = remove_stopwords(hasil4)\n",
    "hasil5 = ', '.join(hasil5)\n",
    "hasil5"
   ]
  },
  {
   "cell_type": "markdown",
   "id": "a5deb70c-c753-4b18-b348-e223bacb0b6a",
   "metadata": {},
   "source": [
    "### Stemming"
   ]
  },
  {
   "cell_type": "code",
   "execution_count": 40,
   "id": "3669fe90-946b-4664-aa0b-580d8d1595fa",
   "metadata": {},
   "outputs": [
    {
     "name": "stdout",
     "output_type": "stream",
     "text": [
      "Requirement already satisfied: PySastrawi in c:\\users\\acer\\anaconda3\\lib\\site-packages (1.2.0)\n",
      "Note: you may need to restart the kernel to use updated packages.\n"
     ]
    }
   ],
   "source": [
    "pip install PySastrawi"
   ]
  },
  {
   "cell_type": "code",
   "execution_count": 41,
   "id": "e349570a-3883-4232-9e89-e499a3b57804",
   "metadata": {},
   "outputs": [],
   "source": [
    "# import StemmerFactory class\n",
    "from Sastrawi.Stemmer.StemmerFactory import StemmerFactory\n",
    "from nltk.tokenize import word_tokenize"
   ]
  },
  {
   "cell_type": "code",
   "execution_count": 42,
   "id": "46fd8164-b729-422b-b0d1-f064eaf779d9",
   "metadata": {},
   "outputs": [
    {
     "data": {
      "text/plain": [
       "'transkripsi  lupa  kalah  menang  coba  menit  pikir  manusia  kalah  menang  biar  jujur  menang  iya  lillahitaala  nggak  nggak  munafik  munafik  nggak  menang  curang  bangga  sih  bangga  sih  nasi  bungkus  duit  bohong  curang  munafik  cobol  neng  gitu  nggak  pikir  allah  ridho  nggak  allah  ridho  nggak  ya  nggak  sih  pikir  menang  coba  ayo  makan  menang  pikir  menang  curang  bil  nggak  takut  azab  allah  ya  nggak  takut  ya  nanya  anak  cucu  hancur  tanggung  beban  menang  menang  menang  lupa  curang  astaghfirullahaladzim  oke  inti  gus  detik  ya  lumayan  munjiat  channel  tonton  negara  lumayan  negara  nonton  channel  mudahmudahan  tambah  bendahara  informasi  gin  saudara  nggak  percaya  tv  orang  masif  sistematis  sistematis  udah  mati  tvnya  tonton  nggak  ambil  pusing  putus  saksi  versi  media  sosial  versi  orang  jujur  versi  sih  tonton  takut  allah  menang  curang  doa  mudahmudahan  prabowo  sandiaga  uno  lindung  allah  menang  allah  jujur  adil  curang  nggak  makan  gaji  nggak  ambil  gaji  nggak  nggak  mani  politik  kuasa  media  cebong  goblok  nya  naudzubilah  minjalik  membanggabanggakan  curang  membanggabanggakan  dusta  tonton  video  langsung  lapang  bangga  juang'"
      ]
     },
     "execution_count": 42,
     "metadata": {},
     "output_type": "execute_result"
    }
   ],
   "source": [
    "# create stemmer\n",
    "factory = StemmerFactory()\n",
    "stemmer = factory.create_stemmer()\n",
    "\n",
    "#referensi: https://github.com/har07/PySastrawi\n",
    "\n",
    "# stem words in the list of tokenized words\n",
    "def stem_words(text):\n",
    "    word_tokens = word_tokenize(text)\n",
    "    stems = [stemmer.stem(word) for word in word_tokens]\n",
    "    return stems\n",
    " \n",
    "hasil6 = stem_words(hasil5)\n",
    "hasil6 = ' '.join(hasil6)\n",
    "hasil6"
   ]
  },
  {
   "cell_type": "markdown",
   "id": "e189099a-1a82-47e8-8555-b94599ecb029",
   "metadata": {},
   "source": [
    "### Masukkan dalam Format txt"
   ]
  },
  {
   "cell_type": "code",
   "execution_count": 46,
   "id": "61fdf6ac-5ee4-4a09-8947-c8ec5e710e4f",
   "metadata": {},
   "outputs": [],
   "source": [
    "# https://towardsdatascience.com/extracting-speech-from-video-using-python-f0ec7e312d38\n",
    "f = open(r\"video 3.txt\", \"w\") \n",
    "f.write(hasil6)\n",
    "f.close()\n",
    "f = open(\"video 3.txt\", \"r\")"
   ]
  },
  {
   "cell_type": "markdown",
   "id": "d862d815-098e-4f91-92fe-3dccb6a9aa8d",
   "metadata": {},
   "source": [
    "### Word Frequency"
   ]
  },
  {
   "cell_type": "code",
   "execution_count": 44,
   "id": "9864abdc-0c2a-4d66-8865-299c82e0fc78",
   "metadata": {},
   "outputs": [
    {
     "name": "stdout",
     "output_type": "stream",
     "text": [
      "Tokenizing Result : \n",
      "\n",
      "['transkripsi', 'lupa', 'kalah', 'menang', 'coba', 'menit', 'pikir', 'manusia', 'kalah', 'menang', 'biar', 'jujur', 'menang', 'iya', 'lillahitaala', 'nggak', 'nggak', 'munafik', 'munafik', 'nggak', 'menang', 'curang', 'bangga', 'sih', 'bangga', 'sih', 'nasi', 'bungkus', 'duit', 'bohong', 'curang', 'munafik', 'cobol', 'neng', 'gitu', 'nggak', 'pikir', 'allah', 'ridho', 'nggak', 'allah', 'ridho', 'nggak', 'ya', 'nggak', 'sih', 'pikir', 'menang', 'coba', 'ayo', 'makan', 'menang', 'pikir', 'menang', 'curang', 'bil', 'nggak', 'takut', 'azab', 'allah', 'ya', 'nggak', 'takut', 'ya', 'nanya', 'anak', 'cucu', 'hancur', 'tanggung', 'beban', 'menang', 'menang', 'menang', 'lupa', 'curang', 'astaghfirullahaladzim', 'oke', 'inti', 'gus', 'detik', 'ya', 'lumayan', 'munjiat', 'channel', 'tonton', 'negara', 'lumayan', 'negara', 'nonton', 'channel', 'mudahmudahan', 'tambah', 'bendahara', 'informasi', 'gin', 'saudara', 'nggak', 'percaya', 'tv', 'orang', 'masif', 'sistematis', 'sistematis', 'udah', 'mati', 'tvnya', 'tonton', 'nggak', 'ambil', 'pusing', 'putus', 'saksi', 'versi', 'media', 'sosial', 'versi', 'orang', 'jujur', 'versi', 'sih', 'tonton', 'takut', 'allah', 'menang', 'curang', 'doa', 'mudahmudahan', 'prabowo', 'sandiaga', 'uno', 'lindung', 'allah', 'menang', 'allah', 'jujur', 'adil', 'curang', 'nggak', 'makan', 'gaji', 'nggak', 'ambil', 'gaji', 'nggak', 'nggak', 'mani', 'politik', 'kuasa', 'media', 'cebong', 'goblok', 'nya', 'naudzubilah', 'minjalik', 'membanggabanggakan', 'curang', 'membanggabanggakan', 'dusta', 'tonton', 'video', 'langsung', 'lapang', 'bangga', 'juang']\n",
      "\n",
      "\n",
      "\n",
      "Frequency Tokens : \n",
      "\n",
      "[('nggak', 15), ('menang', 12), ('curang', 7), ('allah', 6), ('pikir', 4), ('sih', 4), ('ya', 4), ('tonton', 4), ('jujur', 3), ('munafik', 3), ('bangga', 3), ('takut', 3), ('versi', 3), ('lupa', 2), ('kalah', 2), ('coba', 2), ('ridho', 2), ('makan', 2), ('lumayan', 2), ('channel', 2), ('negara', 2), ('mudahmudahan', 2), ('orang', 2), ('sistematis', 2), ('ambil', 2), ('media', 2), ('gaji', 2), ('membanggabanggakan', 2), ('transkripsi', 1), ('menit', 1), ('manusia', 1), ('biar', 1), ('iya', 1), ('lillahitaala', 1), ('nasi', 1), ('bungkus', 1), ('duit', 1), ('bohong', 1), ('cobol', 1), ('neng', 1), ('gitu', 1), ('ayo', 1), ('bil', 1), ('azab', 1), ('nanya', 1), ('anak', 1), ('cucu', 1), ('hancur', 1), ('tanggung', 1), ('beban', 1), ('astaghfirullahaladzim', 1), ('oke', 1), ('inti', 1), ('gus', 1), ('detik', 1), ('munjiat', 1), ('nonton', 1), ('tambah', 1), ('bendahara', 1), ('informasi', 1), ('gin', 1), ('saudara', 1), ('percaya', 1), ('tv', 1), ('masif', 1), ('udah', 1), ('mati', 1), ('tvnya', 1), ('pusing', 1), ('putus', 1), ('saksi', 1), ('sosial', 1), ('doa', 1), ('prabowo', 1), ('sandiaga', 1), ('uno', 1), ('lindung', 1), ('adil', 1), ('mani', 1), ('politik', 1), ('kuasa', 1), ('cebong', 1), ('goblok', 1), ('nya', 1), ('naudzubilah', 1), ('minjalik', 1), ('dusta', 1), ('video', 1), ('langsung', 1), ('lapang', 1), ('juang', 1)]\n"
     ]
    }
   ],
   "source": [
    "#https://ksnugroho.medium.com/dasar-text-preprocessing-dengan-python-a4fa52608ffe\n",
    "from nltk.tokenize import word_tokenize \n",
    "from nltk.probability import FreqDist\n",
    "\n",
    "tokens = nltk.tokenize.word_tokenize(hasil6)\n",
    "\n",
    "print('Tokenizing Result : \\n') \n",
    "print(tokens)\n",
    "print('\\n\\n')\n",
    "\n",
    "freq_tokens = nltk.FreqDist(tokens)\n",
    "\n",
    "print('Frequency Tokens : \\n') \n",
    "print(freq_tokens.most_common())"
   ]
  },
  {
   "cell_type": "markdown",
   "id": "1419e5be-d95f-4a47-af5f-02735ddf8d2f",
   "metadata": {},
   "source": [
    "### Visualization Word Cloud"
   ]
  },
  {
   "cell_type": "code",
   "execution_count": 29,
   "id": "c394b971-9065-44da-b315-cfe7eb4de38b",
   "metadata": {},
   "outputs": [
    {
     "name": "stdout",
     "output_type": "stream",
     "text": [
      "Requirement already satisfied: wordcloud in c:\\users\\acer\\anaconda3\\lib\\site-packages (1.8.1)\n",
      "Requirement already satisfied: matplotlib in c:\\users\\acer\\anaconda3\\lib\\site-packages (from wordcloud) (3.3.4)\n",
      "Requirement already satisfied: numpy>=1.6.1 in c:\\users\\acer\\anaconda3\\lib\\site-packages (from wordcloud) (1.20.1)\n",
      "Requirement already satisfied: pillow in c:\\users\\acer\\anaconda3\\lib\\site-packages (from wordcloud) (8.2.0)\n",
      "Requirement already satisfied: kiwisolver>=1.0.1 in c:\\users\\acer\\anaconda3\\lib\\site-packages (from matplotlib->wordcloud) (1.3.1)\n",
      "Requirement already satisfied: pyparsing!=2.0.4,!=2.1.2,!=2.1.6,>=2.0.3 in c:\\users\\acer\\anaconda3\\lib\\site-packages (from matplotlib->wordcloud) (2.4.7)\n",
      "Requirement already satisfied: python-dateutil>=2.1 in c:\\users\\acer\\anaconda3\\lib\\site-packages (from matplotlib->wordcloud) (2.8.1)\n",
      "Requirement already satisfied: cycler>=0.10 in c:\\users\\acer\\anaconda3\\lib\\site-packages (from matplotlib->wordcloud) (0.10.0)\n",
      "Requirement already satisfied: six in c:\\users\\acer\\anaconda3\\lib\\site-packages (from cycler>=0.10->matplotlib->wordcloud) (1.15.0)\n",
      "Note: you may need to restart the kernel to use updated packages.\n"
     ]
    }
   ],
   "source": [
    "pip install wordcloud"
   ]
  },
  {
   "cell_type": "code",
   "execution_count": 2,
   "id": "30210510-5ea7-44ac-a385-8259a3959398",
   "metadata": {},
   "outputs": [
    {
     "name": "stdout",
     "output_type": "stream",
     "text": [
      "File downloaded and saved!\n"
     ]
    },
    {
     "data": {
      "image/png": "[encoded data removed]",
      "text/plain": [
       "<Figure size 432x288 with 1 Axes>"
      ]
     },
     "metadata": {
      "needs_background": "light"
     },
     "output_type": "display_data"
    }
   ],
   "source": [
    "#https://www.analyticsvidhya.com/blog/2021/05/how-to-build-word-cloud-in-python/\n",
    "\n",
    "import numpy as np  # useful for many scientific computing in Python\n",
    "import pandas as pd # primary data structure library\n",
    "from PIL import Image # converting images into arrays\n",
    "import matplotlib.pyplot as plt # for visualizing the data\n",
    "\n",
    "from wordcloud import WordCloud, STOPWORDS\n",
    "\n",
    "# open the file and read it into a variable alice_novel\n",
    "text = open('video 3.txt', 'r').read()\n",
    "    \n",
    "print ('File downloaded and saved!')\n",
    "\n",
    "stopwords = set(STOPWORDS)\n",
    "# instantiate a word cloud object\n",
    "pengambilan = WordCloud(\n",
    "    background_color='white',\n",
    "    max_words=2000,\n",
    "    stopwords=stopwords\n",
    ")\n",
    "# generate the word cloud\n",
    "pengambilan.generate(text)\n",
    "\n",
    "import matplotlib.pyplot as plt\n",
    "# display the word cloud\n",
    "plt.imshow(pengambilan, interpolation='bilinear')\n",
    "plt.axis('off')\n",
    "plt.show()"
   ]
  }
 ],
 "metadata": {
  "kernelspec": {
   "display_name": "Python 3",
   "language": "python",
   "name": "python3"
  },
  "language_info": {
   "codemirror_mode": {
    "name": "ipython",
    "version": 3
   },
   "file_extension": ".py",
   "mimetype": "text/x-python",
   "name": "python",
   "nbconvert_exporter": "python",
   "pygments_lexer": "ipython3",
   "version": "3.8.8"
  }
 },
 "nbformat": 4,
 "nbformat_minor": 5
}
